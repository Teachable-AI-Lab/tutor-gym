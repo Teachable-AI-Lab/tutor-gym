{
 "cells": [
  {
   "cell_type": "code",
   "execution_count": 1,
   "id": "ff4b8ad7",
   "metadata": {},
   "outputs": [],
   "source": [
    "import pandas as pd\n",
    "filename = \"~/Desktop/Research/AL/tutorenvs/tutorenvs/data/data.txt\""
   ]
  },
  {
   "cell_type": "code",
   "execution_count": 2,
   "id": "0c9a0121",
   "metadata": {},
   "outputs": [],
   "source": [
    "df = pd.read_csv(filename, delimiter='\\t')"
   ]
  },
  {
   "cell_type": "code",
   "execution_count": 3,
   "id": "9aa750ef",
   "metadata": {
    "scrolled": false
   },
   "outputs": [
    {
     "name": "stdout",
     "output_type": "stream",
     "text": [
      "3_R1\n",
      "3\n",
      "2_C1R2\n",
      "2\n",
      "_C1R2\n",
      "1? _\n",
      "3_R2\n",
      "3\n",
      "_C1R3\n",
      "1? _\n",
      "2_C1R3\n",
      "2\n"
     ]
    }
   ],
   "source": [
    "df = df[['Action', 'Session Id', 'Problem Name', 'Step Name', 'Outcome', 'Selection', 'Input']]\n",
    "# print(df)\n",
    "stepsByProblem = {}\n",
    "seen_problems = {}\n",
    "\n",
    "for vals, group_df in df.groupby(by=['Problem Name']):\n",
    "    if not (vals in seen_problems):\n",
    "        stepsByProblem[vals] = []\n",
    "        for i in range(len(group_df)):\n",
    "            if group_df.iloc[i]['Outcome'] == 'CORRECT':\n",
    "                stepsByProblem[vals].append((group_df.iloc[i]['Step Name'], group_df.iloc[i]['Selection'],\n",
    "                                                group_df.iloc[i]['Action'], group_df.iloc[i]['Input']))\n",
    "\n",
    "steps = stepsByProblem[\"EG40_0_equals_9x+8\"]\n",
    "for a_step in steps:\n",
    "    equation = a_step[0]\n",
    "    i = 0\n",
    "    while equation[i] != '=':\n",
    "        i += 1\n",
    "    lhs = equation[:i - 1]\n",
    "    rhs = equation[i + 1:]\n",
    "    selection = 'done'\n",
    "    if a_step[1] != 'done':\n",
    "        selection = a_step[1][10:]\n",
    "        print(selection)\n",
    "        if selection[0] == '3':\n",
    "            print('3')\n",
    "            selection = 'row %s' % (selection[len(selection) - 1]) + ' both sides'\n",
    "        else:\n",
    "            if selection[0] == '2':\n",
    "                print('2')\n",
    "                selection = 'row %s' % (selection[len(selection) - 1]) + ' rhs'\n",
    "            else:\n",
    "                print('1? %s' % selection[0])\n",
    "                selection = 'row %s' % (selection[len(selection) - 1]) + ' lhs'"
   ]
  },
  {
   "cell_type": "code",
   "execution_count": null,
   "id": "8df1291c",
   "metadata": {},
   "outputs": [],
   "source": []
  }
 ],
 "metadata": {
  "kernelspec": {
   "display_name": "Python 3 (ipykernel)",
   "language": "python",
   "name": "python3"
  },
  "language_info": {
   "codemirror_mode": {
    "name": "ipython",
    "version": 3
   },
   "file_extension": ".py",
   "mimetype": "text/x-python",
   "name": "python",
   "nbconvert_exporter": "python",
   "pygments_lexer": "ipython3",
   "version": "3.9.13"
  }
 },
 "nbformat": 4,
 "nbformat_minor": 5
}
